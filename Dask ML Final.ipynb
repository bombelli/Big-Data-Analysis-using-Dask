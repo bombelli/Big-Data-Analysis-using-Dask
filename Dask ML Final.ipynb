{
 "cells": [
  {
   "cell_type": "code",
   "execution_count": 1,
   "id": "1c79c07a",
   "metadata": {},
   "outputs": [
    {
     "name": "stdout",
     "output_type": "stream",
     "text": [
      "16\n"
     ]
    }
   ],
   "source": [
    "import multiprocessing\n",
    "#finding the number of cores\n",
    "print(multiprocessing.cpu_count())"
   ]
  },
  {
   "cell_type": "code",
   "execution_count": 5,
   "id": "bce3c94a",
   "metadata": {},
   "outputs": [
    {
     "name": "stdout",
     "output_type": "stream",
     "text": [
      "Total RAM installed: 17.04 GB\n",
      "Available RAM: 2.46 GB\n",
      "Used RAM: 14.58 GB\n",
      "RAM usage: 85.6 %\n"
     ]
    }
   ],
   "source": [
    "import psutil\n",
    "#Total RAM\n",
    "print(f\"Total RAM installed: {round(psutil.virtual_memory().total/1000000000, 2)} GB\")\n",
    "#Available RAM\n",
    "print(f\"Available RAM: {round(psutil.virtual_memory().available/1000000000, 2)} GB\")\n",
    "#Used RAM\n",
    "print(f\"Used RAM: {round(psutil.virtual_memory().used/1000000000, 2)} GB\")\n",
    "#RAM usage\n",
    "print(f\"RAM usage: {psutil.virtual_memory().percent} %\")"
   ]
  },
  {
   "cell_type": "code",
   "execution_count": 15,
   "id": "20922f75",
   "metadata": {},
   "outputs": [],
   "source": [
    "# Creating a local cluster\n",
    "\n",
    "from dask.distributed import Client\n",
    "client = Client()"
   ]
  },
  {
   "cell_type": "code",
   "execution_count": 16,
   "id": "7356a675",
   "metadata": {},
   "outputs": [
    {
     "data": {
      "text/html": [
       "<table style=\"border: 2px solid white;\">\n",
       "<tr>\n",
       "<td style=\"vertical-align: top; border: 0px solid white\">\n",
       "<h3 style=\"text-align: left;\">Client</h3>\n",
       "<ul style=\"text-align: left; list-style: none; margin: 0; padding: 0;\">\n",
       "  <li><b>Scheduler: </b>tcp://127.0.0.1:51466</li>\n",
       "  <li><b>Dashboard: </b><a href='http://127.0.0.1:8787/status' target='_blank'>http://127.0.0.1:8787/status</a></li>\n",
       "</ul>\n",
       "</td>\n",
       "<td style=\"vertical-align: top; border: 0px solid white\">\n",
       "<h3 style=\"text-align: left;\">Cluster</h3>\n",
       "<ul style=\"text-align: left; list-style:none; margin: 0; padding: 0;\">\n",
       "  <li><b>Workers: </b>4</li>\n",
       "  <li><b>Cores: </b>16</li>\n",
       "  <li><b>Memory: </b>15.87 GiB</li>\n",
       "</ul>\n",
       "</td>\n",
       "</tr>\n",
       "</table>"
      ],
      "text/plain": [
       "<Client: 'tcp://127.0.0.1:51466' processes=4 threads=16, memory=15.87 GiB>"
      ]
     },
     "execution_count": 16,
     "metadata": {},
     "output_type": "execute_result"
    }
   ],
   "source": [
    "client"
   ]
  },
  {
   "cell_type": "code",
   "execution_count": 8,
   "id": "35b8403f",
   "metadata": {},
   "outputs": [],
   "source": [
    "#Loading the data\n",
    "import dask.dataframe as dd\n",
    "\n",
    "\n",
    "data_ks_2018 = dd.read_csv(\"C:\\\\Users\\\\Bismark\\\\Desktop\\\\Mike_Ansah_assignments\\\\Sec_Sem\\\\Machine_learning\\\\ks_2018_data_encoded.csv\")"
   ]
  },
  {
   "cell_type": "code",
   "execution_count": 9,
   "id": "6d19fe5e",
   "metadata": {},
   "outputs": [
    {
     "name": "stdout",
     "output_type": "stream",
     "text": [
      "1\n"
     ]
    }
   ],
   "source": [
    "#Checking number of partitions\n",
    "\n",
    "print(data_ks_2018.npartitions)"
   ]
  },
  {
   "cell_type": "code",
   "execution_count": 10,
   "id": "2bbd41a7",
   "metadata": {},
   "outputs": [
    {
     "name": "stdout",
     "output_type": "stream",
     "text": [
      "10\n"
     ]
    }
   ],
   "source": [
    "#Repartitioning data for easier distribution on cluster\n",
    "\n",
    "data_ks_2018 = data_ks_2018.repartition(npartitions=10)\n",
    "\n",
    "print(data_ks_2018.npartitions)"
   ]
  },
  {
   "cell_type": "code",
   "execution_count": 12,
   "id": "c5b63c04",
   "metadata": {},
   "outputs": [
    {
     "data": {
      "text/html": [
       "<div>\n",
       "<style scoped>\n",
       "    .dataframe tbody tr th:only-of-type {\n",
       "        vertical-align: middle;\n",
       "    }\n",
       "\n",
       "    .dataframe tbody tr th {\n",
       "        vertical-align: top;\n",
       "    }\n",
       "\n",
       "    .dataframe thead th {\n",
       "        text-align: right;\n",
       "    }\n",
       "</style>\n",
       "<table border=\"1\" class=\"dataframe\">\n",
       "  <thead>\n",
       "    <tr style=\"text-align: right;\">\n",
       "      <th></th>\n",
       "      <th>main_category_1</th>\n",
       "      <th>main_category_2</th>\n",
       "      <th>main_category_3</th>\n",
       "      <th>main_category_4</th>\n",
       "      <th>main_category_5</th>\n",
       "      <th>main_category_6</th>\n",
       "      <th>main_category_7</th>\n",
       "      <th>main_category_8</th>\n",
       "      <th>main_category_9</th>\n",
       "      <th>main_category_10</th>\n",
       "      <th>...</th>\n",
       "      <th>usd_pledged</th>\n",
       "      <th>usd_goal</th>\n",
       "      <th>launch_gap</th>\n",
       "      <th>deadline_year</th>\n",
       "      <th>deadline_month</th>\n",
       "      <th>deadline_day</th>\n",
       "      <th>launched_year</th>\n",
       "      <th>launched_month</th>\n",
       "      <th>launched_day</th>\n",
       "      <th>state_target</th>\n",
       "    </tr>\n",
       "  </thead>\n",
       "  <tbody>\n",
       "    <tr>\n",
       "      <th>0</th>\n",
       "      <td>1</td>\n",
       "      <td>0</td>\n",
       "      <td>0</td>\n",
       "      <td>0</td>\n",
       "      <td>0</td>\n",
       "      <td>0</td>\n",
       "      <td>0</td>\n",
       "      <td>0</td>\n",
       "      <td>0</td>\n",
       "      <td>0</td>\n",
       "      <td>...</td>\n",
       "      <td>0.0</td>\n",
       "      <td>1533.95</td>\n",
       "      <td>59</td>\n",
       "      <td>2015</td>\n",
       "      <td>10</td>\n",
       "      <td>9</td>\n",
       "      <td>2015</td>\n",
       "      <td>8</td>\n",
       "      <td>11</td>\n",
       "      <td>1</td>\n",
       "    </tr>\n",
       "    <tr>\n",
       "      <th>1</th>\n",
       "      <td>0</td>\n",
       "      <td>1</td>\n",
       "      <td>0</td>\n",
       "      <td>0</td>\n",
       "      <td>0</td>\n",
       "      <td>0</td>\n",
       "      <td>0</td>\n",
       "      <td>0</td>\n",
       "      <td>0</td>\n",
       "      <td>0</td>\n",
       "      <td>...</td>\n",
       "      <td>1.0</td>\n",
       "      <td>5000.00</td>\n",
       "      <td>30</td>\n",
       "      <td>2012</td>\n",
       "      <td>4</td>\n",
       "      <td>16</td>\n",
       "      <td>2012</td>\n",
       "      <td>3</td>\n",
       "      <td>17</td>\n",
       "      <td>1</td>\n",
       "    </tr>\n",
       "    <tr>\n",
       "      <th>2</th>\n",
       "      <td>0</td>\n",
       "      <td>0</td>\n",
       "      <td>1</td>\n",
       "      <td>0</td>\n",
       "      <td>0</td>\n",
       "      <td>0</td>\n",
       "      <td>0</td>\n",
       "      <td>0</td>\n",
       "      <td>0</td>\n",
       "      <td>0</td>\n",
       "      <td>...</td>\n",
       "      <td>1283.0</td>\n",
       "      <td>19500.00</td>\n",
       "      <td>56</td>\n",
       "      <td>2015</td>\n",
       "      <td>8</td>\n",
       "      <td>29</td>\n",
       "      <td>2015</td>\n",
       "      <td>7</td>\n",
       "      <td>4</td>\n",
       "      <td>0</td>\n",
       "    </tr>\n",
       "    <tr>\n",
       "      <th>3</th>\n",
       "      <td>0</td>\n",
       "      <td>0</td>\n",
       "      <td>0</td>\n",
       "      <td>1</td>\n",
       "      <td>0</td>\n",
       "      <td>0</td>\n",
       "      <td>0</td>\n",
       "      <td>0</td>\n",
       "      <td>0</td>\n",
       "      <td>0</td>\n",
       "      <td>...</td>\n",
       "      <td>1205.0</td>\n",
       "      <td>1000.00</td>\n",
       "      <td>20</td>\n",
       "      <td>2014</td>\n",
       "      <td>12</td>\n",
       "      <td>21</td>\n",
       "      <td>2014</td>\n",
       "      <td>12</td>\n",
       "      <td>1</td>\n",
       "      <td>2</td>\n",
       "    </tr>\n",
       "    <tr>\n",
       "      <th>4</th>\n",
       "      <td>1</td>\n",
       "      <td>0</td>\n",
       "      <td>0</td>\n",
       "      <td>0</td>\n",
       "      <td>0</td>\n",
       "      <td>0</td>\n",
       "      <td>0</td>\n",
       "      <td>0</td>\n",
       "      <td>0</td>\n",
       "      <td>0</td>\n",
       "      <td>...</td>\n",
       "      <td>0.0</td>\n",
       "      <td>2406.39</td>\n",
       "      <td>30</td>\n",
       "      <td>2013</td>\n",
       "      <td>10</td>\n",
       "      <td>9</td>\n",
       "      <td>2013</td>\n",
       "      <td>9</td>\n",
       "      <td>9</td>\n",
       "      <td>1</td>\n",
       "    </tr>\n",
       "  </tbody>\n",
       "</table>\n",
       "<p>5 rows × 40 columns</p>\n",
       "</div>"
      ],
      "text/plain": [
       "   main_category_1  main_category_2  main_category_3  main_category_4  \\\n",
       "0                1                0                0                0   \n",
       "1                0                1                0                0   \n",
       "2                0                0                1                0   \n",
       "3                0                0                0                1   \n",
       "4                1                0                0                0   \n",
       "\n",
       "   main_category_5  main_category_6  main_category_7  main_category_8  \\\n",
       "0                0                0                0                0   \n",
       "1                0                0                0                0   \n",
       "2                0                0                0                0   \n",
       "3                0                0                0                0   \n",
       "4                0                0                0                0   \n",
       "\n",
       "   main_category_9  main_category_10  ...  usd_pledged  usd_goal  launch_gap  \\\n",
       "0                0                 0  ...          0.0   1533.95          59   \n",
       "1                0                 0  ...          1.0   5000.00          30   \n",
       "2                0                 0  ...       1283.0  19500.00          56   \n",
       "3                0                 0  ...       1205.0   1000.00          20   \n",
       "4                0                 0  ...          0.0   2406.39          30   \n",
       "\n",
       "   deadline_year  deadline_month  deadline_day  launched_year  launched_month  \\\n",
       "0           2015              10             9           2015               8   \n",
       "1           2012               4            16           2012               3   \n",
       "2           2015               8            29           2015               7   \n",
       "3           2014              12            21           2014              12   \n",
       "4           2013              10             9           2013               9   \n",
       "\n",
       "   launched_day  state_target  \n",
       "0            11             1  \n",
       "1            17             1  \n",
       "2             4             0  \n",
       "3             1             2  \n",
       "4             9             1  \n",
       "\n",
       "[5 rows x 40 columns]"
      ]
     },
     "execution_count": 12,
     "metadata": {},
     "output_type": "execute_result"
    }
   ],
   "source": [
    "#Viewing sample of the data\n",
    "\n",
    "data_ks_2018.head()"
   ]
  },
  {
   "cell_type": "code",
   "execution_count": 17,
   "id": "0611ad6f",
   "metadata": {},
   "outputs": [],
   "source": [
    "#Taking target of main data\n",
    "data_X = data_ks_2018.drop('state_target', axis =1)\n",
    "\n",
    "data_y= data_ks_2018.state_target"
   ]
  },
  {
   "cell_type": "code",
   "execution_count": 24,
   "id": "d46cccbb",
   "metadata": {},
   "outputs": [],
   "source": [
    "#Splitting the data\n",
    "from dask_ml.model_selection import train_test_split\n",
    "\n",
    "X_train, X_test, y_train, y_test = train_test_split(data_X, data_y, test_size=0.3, random_state=42)"
   ]
  },
  {
   "cell_type": "code",
   "execution_count": 78,
   "id": "f1a6222d",
   "metadata": {},
   "outputs": [],
   "source": [
    "#Balancing the training data\n",
    "from imblearn.over_sampling import SMOTE\n",
    "\n",
    "oversample = SMOTE()\n",
    "#X_train_resam, y_train_resam = oversample.fit_resample(scaled_X_train, y_train)\n",
    "X_train_resam, y_train_resam = oversample.fit_resample(X_train, y_train)"
   ]
  },
  {
   "cell_type": "code",
   "execution_count": 47,
   "id": "ccec61c6",
   "metadata": {},
   "outputs": [
    {
     "data": {
      "text/html": [
       "<div>\n",
       "<style scoped>\n",
       "    .dataframe tbody tr th:only-of-type {\n",
       "        vertical-align: middle;\n",
       "    }\n",
       "\n",
       "    .dataframe tbody tr th {\n",
       "        vertical-align: top;\n",
       "    }\n",
       "\n",
       "    .dataframe thead th {\n",
       "        text-align: right;\n",
       "    }\n",
       "</style>\n",
       "<table border=\"1\" class=\"dataframe\">\n",
       "  <thead>\n",
       "    <tr style=\"text-align: right;\">\n",
       "      <th></th>\n",
       "      <th>0</th>\n",
       "      <th>1</th>\n",
       "      <th>2</th>\n",
       "      <th>3</th>\n",
       "      <th>4</th>\n",
       "      <th>5</th>\n",
       "      <th>6</th>\n",
       "      <th>7</th>\n",
       "      <th>8</th>\n",
       "      <th>9</th>\n",
       "      <th>...</th>\n",
       "      <th>29</th>\n",
       "      <th>30</th>\n",
       "      <th>31</th>\n",
       "      <th>32</th>\n",
       "      <th>33</th>\n",
       "      <th>34</th>\n",
       "      <th>35</th>\n",
       "      <th>36</th>\n",
       "      <th>37</th>\n",
       "      <th>38</th>\n",
       "    </tr>\n",
       "  </thead>\n",
       "  <tbody>\n",
       "    <tr>\n",
       "      <th>0</th>\n",
       "      <td>2.693599</td>\n",
       "      <td>-0.424100</td>\n",
       "      <td>-0.449167</td>\n",
       "      <td>-0.250258</td>\n",
       "      <td>-0.176845</td>\n",
       "      <td>-0.249538</td>\n",
       "      <td>-0.16838</td>\n",
       "      <td>-0.267082</td>\n",
       "      <td>-0.18914</td>\n",
       "      <td>-0.317326</td>\n",
       "      <td>...</td>\n",
       "      <td>-0.800149</td>\n",
       "      <td>-0.576340</td>\n",
       "      <td>-0.711545</td>\n",
       "      <td>1.910303</td>\n",
       "      <td>0.424327</td>\n",
       "      <td>0.993333</td>\n",
       "      <td>-0.696969</td>\n",
       "      <td>0.455399</td>\n",
       "      <td>0.484723</td>\n",
       "      <td>-0.493488</td>\n",
       "    </tr>\n",
       "    <tr>\n",
       "      <th>1</th>\n",
       "      <td>-0.371251</td>\n",
       "      <td>2.357936</td>\n",
       "      <td>-0.449167</td>\n",
       "      <td>-0.250258</td>\n",
       "      <td>-0.176845</td>\n",
       "      <td>-0.249538</td>\n",
       "      <td>-0.16838</td>\n",
       "      <td>-0.267082</td>\n",
       "      <td>-0.18914</td>\n",
       "      <td>-0.317326</td>\n",
       "      <td>...</td>\n",
       "      <td>-0.755002</td>\n",
       "      <td>-0.575894</td>\n",
       "      <td>-0.049416</td>\n",
       "      <td>-0.272733</td>\n",
       "      <td>-1.100848</td>\n",
       "      <td>-0.819008</td>\n",
       "      <td>0.075569</td>\n",
       "      <td>-1.061886</td>\n",
       "      <td>-1.024951</td>\n",
       "      <td>0.187442</td>\n",
       "    </tr>\n",
       "    <tr>\n",
       "      <th>2</th>\n",
       "      <td>-0.371251</td>\n",
       "      <td>-0.424100</td>\n",
       "      <td>2.226341</td>\n",
       "      <td>-0.250258</td>\n",
       "      <td>-0.176845</td>\n",
       "      <td>-0.249538</td>\n",
       "      <td>-0.16838</td>\n",
       "      <td>-0.267082</td>\n",
       "      <td>-0.18914</td>\n",
       "      <td>-0.317326</td>\n",
       "      <td>...</td>\n",
       "      <td>-0.168090</td>\n",
       "      <td>-0.004216</td>\n",
       "      <td>2.720559</td>\n",
       "      <td>1.684472</td>\n",
       "      <td>0.424327</td>\n",
       "      <td>0.389219</td>\n",
       "      <td>1.510282</td>\n",
       "      <td>0.455399</td>\n",
       "      <td>0.182789</td>\n",
       "      <td>-1.287907</td>\n",
       "    </tr>\n",
       "    <tr>\n",
       "      <th>3</th>\n",
       "      <td>-0.371251</td>\n",
       "      <td>-0.424100</td>\n",
       "      <td>-0.449167</td>\n",
       "      <td>3.995881</td>\n",
       "      <td>-0.176845</td>\n",
       "      <td>-0.249538</td>\n",
       "      <td>-0.16838</td>\n",
       "      <td>-0.267082</td>\n",
       "      <td>-0.18914</td>\n",
       "      <td>-0.317326</td>\n",
       "      <td>...</td>\n",
       "      <td>-0.077795</td>\n",
       "      <td>-0.038998</td>\n",
       "      <td>-0.813547</td>\n",
       "      <td>-1.025504</td>\n",
       "      <td>-0.084064</td>\n",
       "      <td>1.597447</td>\n",
       "      <td>0.627382</td>\n",
       "      <td>-0.050363</td>\n",
       "      <td>1.692463</td>\n",
       "      <td>-1.628372</td>\n",
       "    </tr>\n",
       "    <tr>\n",
       "      <th>4</th>\n",
       "      <td>-0.371251</td>\n",
       "      <td>-0.424100</td>\n",
       "      <td>-0.449167</td>\n",
       "      <td>3.995881</td>\n",
       "      <td>-0.176845</td>\n",
       "      <td>-0.249538</td>\n",
       "      <td>-0.16838</td>\n",
       "      <td>-0.267082</td>\n",
       "      <td>-0.18914</td>\n",
       "      <td>-0.317326</td>\n",
       "      <td>...</td>\n",
       "      <td>1.005736</td>\n",
       "      <td>0.217855</td>\n",
       "      <td>-0.049416</td>\n",
       "      <td>-0.272733</td>\n",
       "      <td>-1.100848</td>\n",
       "      <td>-0.214894</td>\n",
       "      <td>-1.469507</td>\n",
       "      <td>-1.061886</td>\n",
       "      <td>-0.421081</td>\n",
       "      <td>-1.401395</td>\n",
       "    </tr>\n",
       "  </tbody>\n",
       "</table>\n",
       "<p>5 rows × 39 columns</p>\n",
       "</div>"
      ],
      "text/plain": [
       "         0         1         2         3         4         5        6   \\\n",
       "0  2.693599 -0.424100 -0.449167 -0.250258 -0.176845 -0.249538 -0.16838   \n",
       "1 -0.371251  2.357936 -0.449167 -0.250258 -0.176845 -0.249538 -0.16838   \n",
       "2 -0.371251 -0.424100  2.226341 -0.250258 -0.176845 -0.249538 -0.16838   \n",
       "3 -0.371251 -0.424100 -0.449167  3.995881 -0.176845 -0.249538 -0.16838   \n",
       "4 -0.371251 -0.424100 -0.449167  3.995881 -0.176845 -0.249538 -0.16838   \n",
       "\n",
       "         7        8         9   ...        29        30        31        32  \\\n",
       "0 -0.267082 -0.18914 -0.317326  ... -0.800149 -0.576340 -0.711545  1.910303   \n",
       "1 -0.267082 -0.18914 -0.317326  ... -0.755002 -0.575894 -0.049416 -0.272733   \n",
       "2 -0.267082 -0.18914 -0.317326  ... -0.168090 -0.004216  2.720559  1.684472   \n",
       "3 -0.267082 -0.18914 -0.317326  ... -0.077795 -0.038998 -0.813547 -1.025504   \n",
       "4 -0.267082 -0.18914 -0.317326  ...  1.005736  0.217855 -0.049416 -0.272733   \n",
       "\n",
       "         33        34        35        36        37        38  \n",
       "0  0.424327  0.993333 -0.696969  0.455399  0.484723 -0.493488  \n",
       "1 -1.100848 -0.819008  0.075569 -1.061886 -1.024951  0.187442  \n",
       "2  0.424327  0.389219  1.510282  0.455399  0.182789 -1.287907  \n",
       "3 -0.084064  1.597447  0.627382 -0.050363  1.692463 -1.628372  \n",
       "4 -1.100848 -0.214894 -1.469507 -1.061886 -0.421081 -1.401395  \n",
       "\n",
       "[5 rows x 39 columns]"
      ]
     },
     "execution_count": 47,
     "metadata": {},
     "output_type": "execute_result"
    }
   ],
   "source": [
    "X_train_resam.head()"
   ]
  },
  {
   "cell_type": "code",
   "execution_count": 57,
   "id": "b50f7abf",
   "metadata": {},
   "outputs": [
    {
     "data": {
      "text/plain": [
       "(416816, 39)"
      ]
     },
     "execution_count": 57,
     "metadata": {},
     "output_type": "execute_result"
    }
   ],
   "source": [
    "X_train_resam.shape"
   ]
  },
  {
   "cell_type": "code",
   "execution_count": 58,
   "id": "bb66d33f",
   "metadata": {},
   "outputs": [
    {
     "data": {
      "text/plain": [
       "(416816,)"
      ]
     },
     "execution_count": 58,
     "metadata": {},
     "output_type": "execute_result"
    }
   ],
   "source": [
    "y_train_resam.shape"
   ]
  },
  {
   "cell_type": "code",
   "execution_count": 69,
   "id": "6eab67aa",
   "metadata": {},
   "outputs": [
    {
     "data": {
      "text/plain": [
       "(Delayed('int-b06e6738-1882-400e-9da6-bb859023def3'), 39)"
      ]
     },
     "execution_count": 69,
     "metadata": {},
     "output_type": "execute_result"
    }
   ],
   "source": [
    "X_test.shape"
   ]
  },
  {
   "cell_type": "code",
   "execution_count": 65,
   "id": "9316e947",
   "metadata": {},
   "outputs": [
    {
     "data": {
      "text/plain": [
       "Dask Series Structure:\n",
       "npartitions=10\n",
       "    int64\n",
       "      ...\n",
       "    ...  \n",
       "      ...\n",
       "      ...\n",
       "Name: state_target, dtype: int64\n",
       "Dask Name: split, 42 tasks"
      ]
     },
     "execution_count": 65,
     "metadata": {},
     "output_type": "execute_result"
    }
   ],
   "source": [
    "y_test"
   ]
  },
  {
   "cell_type": "code",
   "execution_count": 89,
   "id": "07f9b591",
   "metadata": {},
   "outputs": [
    {
     "name": "stdout",
     "output_type": "stream",
     "text": [
      "Wall time: 947 ms\n"
     ]
    },
    {
     "data": {
      "text/plain": [
       "0.5206041221515879"
      ]
     },
     "execution_count": 89,
     "metadata": {},
     "output_type": "execute_result"
    }
   ],
   "source": [
    "# Modeling a Naive Bayes classification model using the cluster\n",
    "%%time \n",
    "\n",
    "from sklearn.naive_bayes import BernoulliNB\n",
    "from dask_ml.wrappers import Incremental\n",
    "from dask.distributed import Client\n",
    "import joblib\n",
    "\n",
    "with joblib.parallel_backend('dask'):\n",
    "    nb = BernoulliNB()\n",
    "    parallel_nb = Incremental(nb)\n",
    "\n",
    "    parallel_nb.fit(X_train_resam, y_train_resam, classes=[0,1])\n",
    "\n",
    "parallel_nb.score(X_test, y_test)"
   ]
  },
  {
   "cell_type": "code",
   "execution_count": null,
   "id": "11a2ad1e",
   "metadata": {},
   "outputs": [],
   "source": []
  }
 ],
 "metadata": {
  "kernelspec": {
   "display_name": "Python 3",
   "language": "python",
   "name": "python3"
  },
  "language_info": {
   "codemirror_mode": {
    "name": "ipython",
    "version": 3
   },
   "file_extension": ".py",
   "mimetype": "text/x-python",
   "name": "python",
   "nbconvert_exporter": "python",
   "pygments_lexer": "ipython3",
   "version": "3.8.8"
  }
 },
 "nbformat": 4,
 "nbformat_minor": 5
}

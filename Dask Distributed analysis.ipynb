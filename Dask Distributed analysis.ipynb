{
 "cells": [
  {
   "cell_type": "code",
   "execution_count": 1,
   "id": "7c912b5f",
   "metadata": {},
   "outputs": [],
   "source": [
    "#Using Dask for Distributed Data Analysis\n",
    "import dask\n",
    "import dask.dataframe as dd\n",
    "from dask.diagnostics import ProgressBar"
   ]
  },
  {
   "cell_type": "code",
   "execution_count": 2,
   "id": "83ec14d2",
   "metadata": {},
   "outputs": [],
   "source": [
    "#Reading in the data\n",
    "kick_data = dd.read_csv(\"C:\\\\Users\\\\Bismark\\\\Desktop\\\\Mike_Ansah_assignments\\\\Sec_Sem\\Results\\\\kick_data_2016_new_2.csv\")"
   ]
  },
  {
   "cell_type": "code",
   "execution_count": 3,
   "id": "c55c63c3",
   "metadata": {},
   "outputs": [
    {
     "name": "stdout",
     "output_type": "stream",
     "text": [
      "1\n"
     ]
    }
   ],
   "source": [
    "print(kick_data.npartitions)"
   ]
  },
  {
   "cell_type": "code",
   "execution_count": 4,
   "id": "edefa466",
   "metadata": {},
   "outputs": [
    {
     "data": {
      "text/plain": [
       "0    323750\n",
       "dtype: int64"
      ]
     },
     "execution_count": 4,
     "metadata": {},
     "output_type": "execute_result"
    }
   ],
   "source": [
    "kick_data.map_partitions(len).compute()"
   ]
  },
  {
   "cell_type": "code",
   "execution_count": 74,
   "id": "3f9cb864",
   "metadata": {},
   "outputs": [
    {
     "name": "stdout",
     "output_type": "stream",
     "text": [
      "<class 'dask.dataframe.core.DataFrame'>\n",
      "Columns: 12 entries, Unnamed: 0 to usd_pledged\n",
      "dtypes: object(7), float64(4), int64(1)"
     ]
    }
   ],
   "source": [
    "kick_data.info()"
   ]
  },
  {
   "cell_type": "code",
   "execution_count": 50,
   "id": "a072b50f",
   "metadata": {},
   "outputs": [
    {
     "data": {
      "text/plain": [
       "0"
      ]
     },
     "execution_count": 50,
     "metadata": {},
     "output_type": "execute_result"
    }
   ],
   "source": [
    "kick_data.columns.isna().sum()"
   ]
  },
  {
   "cell_type": "code",
   "execution_count": 51,
   "id": "4dec5cdb",
   "metadata": {},
   "outputs": [
    {
     "name": "stdout",
     "output_type": "stream",
     "text": [
      "[########################################] | 100% Completed |  1.3s\n"
     ]
    },
    {
     "data": {
      "text/html": [
       "<div>\n",
       "<style scoped>\n",
       "    .dataframe tbody tr th:only-of-type {\n",
       "        vertical-align: middle;\n",
       "    }\n",
       "\n",
       "    .dataframe tbody tr th {\n",
       "        vertical-align: top;\n",
       "    }\n",
       "\n",
       "    .dataframe thead th {\n",
       "        text-align: right;\n",
       "    }\n",
       "</style>\n",
       "<table border=\"1\" class=\"dataframe\">\n",
       "  <thead>\n",
       "    <tr style=\"text-align: right;\">\n",
       "      <th></th>\n",
       "      <th>Unnamed: 0</th>\n",
       "      <th>category</th>\n",
       "      <th>main_category</th>\n",
       "      <th>currency</th>\n",
       "      <th>deadline</th>\n",
       "      <th>goal</th>\n",
       "      <th>launched</th>\n",
       "      <th>pledged</th>\n",
       "      <th>state</th>\n",
       "      <th>backers</th>\n",
       "      <th>country</th>\n",
       "      <th>usd_pledged</th>\n",
       "    </tr>\n",
       "  </thead>\n",
       "  <tbody>\n",
       "    <tr>\n",
       "      <th>0</th>\n",
       "      <td>0</td>\n",
       "      <td>Poetry</td>\n",
       "      <td>Publishing</td>\n",
       "      <td>GBP</td>\n",
       "      <td>2015-10-09 11:36:00</td>\n",
       "      <td>1000.0</td>\n",
       "      <td>2015-08-11 12:12:28</td>\n",
       "      <td>0.0</td>\n",
       "      <td>failed</td>\n",
       "      <td>0.0</td>\n",
       "      <td>GB</td>\n",
       "      <td>0.0</td>\n",
       "    </tr>\n",
       "    <tr>\n",
       "      <th>1</th>\n",
       "      <td>1</td>\n",
       "      <td>Narrative Film</td>\n",
       "      <td>Film &amp; Video</td>\n",
       "      <td>USD</td>\n",
       "      <td>2013-02-26 00:20:50</td>\n",
       "      <td>45000.0</td>\n",
       "      <td>2013-01-12 00:20:50</td>\n",
       "      <td>220.0</td>\n",
       "      <td>failed</td>\n",
       "      <td>3.0</td>\n",
       "      <td>US</td>\n",
       "      <td>220.0</td>\n",
       "    </tr>\n",
       "    <tr>\n",
       "      <th>2</th>\n",
       "      <td>2</td>\n",
       "      <td>Music</td>\n",
       "      <td>Music</td>\n",
       "      <td>USD</td>\n",
       "      <td>2012-04-16 04:24:11</td>\n",
       "      <td>5000.0</td>\n",
       "      <td>2012-03-17 03:24:11</td>\n",
       "      <td>1.0</td>\n",
       "      <td>failed</td>\n",
       "      <td>1.0</td>\n",
       "      <td>US</td>\n",
       "      <td>1.0</td>\n",
       "    </tr>\n",
       "    <tr>\n",
       "      <th>3</th>\n",
       "      <td>3</td>\n",
       "      <td>Film &amp; Video</td>\n",
       "      <td>Film &amp; Video</td>\n",
       "      <td>USD</td>\n",
       "      <td>2015-08-29 01:00:00</td>\n",
       "      <td>19500.0</td>\n",
       "      <td>2015-07-04 08:35:03</td>\n",
       "      <td>1283.0</td>\n",
       "      <td>canceled</td>\n",
       "      <td>14.0</td>\n",
       "      <td>US</td>\n",
       "      <td>1283.0</td>\n",
       "    </tr>\n",
       "    <tr>\n",
       "      <th>4</th>\n",
       "      <td>4</td>\n",
       "      <td>Restaurants</td>\n",
       "      <td>Food</td>\n",
       "      <td>USD</td>\n",
       "      <td>2016-04-01 13:38:27</td>\n",
       "      <td>50000.0</td>\n",
       "      <td>2016-02-26 13:38:27</td>\n",
       "      <td>52375.0</td>\n",
       "      <td>successful</td>\n",
       "      <td>224.0</td>\n",
       "      <td>US</td>\n",
       "      <td>52375.0</td>\n",
       "    </tr>\n",
       "  </tbody>\n",
       "</table>\n",
       "</div>"
      ],
      "text/plain": [
       "   Unnamed: 0        category main_category currency             deadline  \\\n",
       "0           0          Poetry    Publishing      GBP  2015-10-09 11:36:00   \n",
       "1           1  Narrative Film  Film & Video      USD  2013-02-26 00:20:50   \n",
       "2           2           Music         Music      USD  2012-04-16 04:24:11   \n",
       "3           3    Film & Video  Film & Video      USD  2015-08-29 01:00:00   \n",
       "4           4     Restaurants          Food      USD  2016-04-01 13:38:27   \n",
       "\n",
       "      goal             launched  pledged       state  backers country  \\\n",
       "0   1000.0  2015-08-11 12:12:28      0.0      failed      0.0      GB   \n",
       "1  45000.0  2013-01-12 00:20:50    220.0      failed      3.0      US   \n",
       "2   5000.0  2012-03-17 03:24:11      1.0      failed      1.0      US   \n",
       "3  19500.0  2015-07-04 08:35:03   1283.0    canceled     14.0      US   \n",
       "4  50000.0  2016-02-26 13:38:27  52375.0  successful    224.0      US   \n",
       "\n",
       "   usd_pledged  \n",
       "0          0.0  \n",
       "1        220.0  \n",
       "2          1.0  \n",
       "3       1283.0  \n",
       "4      52375.0  "
      ]
     },
     "metadata": {},
     "output_type": "display_data"
    }
   ],
   "source": [
    "# Checking Data characteristics in Dask\n",
    "with ProgressBar():\n",
    "    display(kick_data.head())"
   ]
  },
  {
   "cell_type": "code",
   "execution_count": 52,
   "id": "ec97e2ea",
   "metadata": {},
   "outputs": [
    {
     "data": {
      "text/plain": [
       "Unnamed: 0         int64\n",
       "category          object\n",
       "main_category     object\n",
       "currency          object\n",
       "deadline          object\n",
       "goal             float64\n",
       "launched          object\n",
       "pledged          float64\n",
       "state             object\n",
       "backers          float64\n",
       "country           object\n",
       "usd_pledged      float64\n",
       "dtype: object"
      ]
     },
     "execution_count": 52,
     "metadata": {},
     "output_type": "execute_result"
    }
   ],
   "source": [
    "#Checking the data types of coulmns\n",
    "kick_data.dtypes"
   ]
  },
  {
   "cell_type": "code",
   "execution_count": 53,
   "id": "40ec7955",
   "metadata": {},
   "outputs": [
    {
     "name": "stdout",
     "output_type": "stream",
     "text": [
      "[########################################] | 100% Completed |  1.4s\n"
     ]
    },
    {
     "data": {
      "text/html": [
       "<div>\n",
       "<style scoped>\n",
       "    .dataframe tbody tr th:only-of-type {\n",
       "        vertical-align: middle;\n",
       "    }\n",
       "\n",
       "    .dataframe tbody tr th {\n",
       "        vertical-align: top;\n",
       "    }\n",
       "\n",
       "    .dataframe thead th {\n",
       "        text-align: right;\n",
       "    }\n",
       "</style>\n",
       "<table border=\"1\" class=\"dataframe\">\n",
       "  <thead>\n",
       "    <tr style=\"text-align: right;\">\n",
       "      <th></th>\n",
       "      <th>category</th>\n",
       "      <th>main_category</th>\n",
       "      <th>currency</th>\n",
       "      <th>deadline</th>\n",
       "      <th>goal</th>\n",
       "      <th>launched</th>\n",
       "      <th>pledged</th>\n",
       "      <th>state</th>\n",
       "      <th>backers</th>\n",
       "      <th>country</th>\n",
       "      <th>usd_pledged</th>\n",
       "    </tr>\n",
       "  </thead>\n",
       "  <tbody>\n",
       "    <tr>\n",
       "      <th>0</th>\n",
       "      <td>Poetry</td>\n",
       "      <td>Publishing</td>\n",
       "      <td>GBP</td>\n",
       "      <td>2015-10-09 11:36:00</td>\n",
       "      <td>1000.0</td>\n",
       "      <td>2015-08-11 12:12:28</td>\n",
       "      <td>0.0</td>\n",
       "      <td>failed</td>\n",
       "      <td>0.0</td>\n",
       "      <td>GB</td>\n",
       "      <td>0.0</td>\n",
       "    </tr>\n",
       "    <tr>\n",
       "      <th>1</th>\n",
       "      <td>Narrative Film</td>\n",
       "      <td>Film &amp; Video</td>\n",
       "      <td>USD</td>\n",
       "      <td>2013-02-26 00:20:50</td>\n",
       "      <td>45000.0</td>\n",
       "      <td>2013-01-12 00:20:50</td>\n",
       "      <td>220.0</td>\n",
       "      <td>failed</td>\n",
       "      <td>3.0</td>\n",
       "      <td>US</td>\n",
       "      <td>220.0</td>\n",
       "    </tr>\n",
       "    <tr>\n",
       "      <th>2</th>\n",
       "      <td>Music</td>\n",
       "      <td>Music</td>\n",
       "      <td>USD</td>\n",
       "      <td>2012-04-16 04:24:11</td>\n",
       "      <td>5000.0</td>\n",
       "      <td>2012-03-17 03:24:11</td>\n",
       "      <td>1.0</td>\n",
       "      <td>failed</td>\n",
       "      <td>1.0</td>\n",
       "      <td>US</td>\n",
       "      <td>1.0</td>\n",
       "    </tr>\n",
       "    <tr>\n",
       "      <th>3</th>\n",
       "      <td>Film &amp; Video</td>\n",
       "      <td>Film &amp; Video</td>\n",
       "      <td>USD</td>\n",
       "      <td>2015-08-29 01:00:00</td>\n",
       "      <td>19500.0</td>\n",
       "      <td>2015-07-04 08:35:03</td>\n",
       "      <td>1283.0</td>\n",
       "      <td>canceled</td>\n",
       "      <td>14.0</td>\n",
       "      <td>US</td>\n",
       "      <td>1283.0</td>\n",
       "    </tr>\n",
       "    <tr>\n",
       "      <th>4</th>\n",
       "      <td>Restaurants</td>\n",
       "      <td>Food</td>\n",
       "      <td>USD</td>\n",
       "      <td>2016-04-01 13:38:27</td>\n",
       "      <td>50000.0</td>\n",
       "      <td>2016-02-26 13:38:27</td>\n",
       "      <td>52375.0</td>\n",
       "      <td>successful</td>\n",
       "      <td>224.0</td>\n",
       "      <td>US</td>\n",
       "      <td>52375.0</td>\n",
       "    </tr>\n",
       "  </tbody>\n",
       "</table>\n",
       "</div>"
      ],
      "text/plain": [
       "         category main_category currency             deadline     goal  \\\n",
       "0          Poetry    Publishing      GBP  2015-10-09 11:36:00   1000.0   \n",
       "1  Narrative Film  Film & Video      USD  2013-02-26 00:20:50  45000.0   \n",
       "2           Music         Music      USD  2012-04-16 04:24:11   5000.0   \n",
       "3    Film & Video  Film & Video      USD  2015-08-29 01:00:00  19500.0   \n",
       "4     Restaurants          Food      USD  2016-04-01 13:38:27  50000.0   \n",
       "\n",
       "              launched  pledged       state  backers country  usd_pledged  \n",
       "0  2015-08-11 12:12:28      0.0      failed      0.0      GB          0.0  \n",
       "1  2013-01-12 00:20:50    220.0      failed      3.0      US        220.0  \n",
       "2  2012-03-17 03:24:11      1.0      failed      1.0      US          1.0  \n",
       "3  2015-07-04 08:35:03   1283.0    canceled     14.0      US       1283.0  \n",
       "4  2016-02-26 13:38:27  52375.0  successful    224.0      US      52375.0  "
      ]
     },
     "metadata": {},
     "output_type": "display_data"
    }
   ],
   "source": [
    "# Data Cleaning \n",
    "#Added column unnamed:0 needs to be dropped\n",
    "with ProgressBar():\n",
    "    display(kick_data.drop('Unnamed: 0', axis=1).head())\n"
   ]
  },
  {
   "cell_type": "code",
   "execution_count": 54,
   "id": "4ab886de",
   "metadata": {},
   "outputs": [
    {
     "data": {
      "text/plain": [
       "Index(['Unnamed: 0', 'category', 'main_category', 'currency', 'deadline',\n",
       "       'goal', 'launched', 'pledged', 'state', 'backers', 'country',\n",
       "       'usd_pledged'],\n",
       "      dtype='object')"
      ]
     },
     "execution_count": 54,
     "metadata": {},
     "output_type": "execute_result"
    }
   ],
   "source": [
    "kick_data.columns"
   ]
  },
  {
   "cell_type": "code",
   "execution_count": 55,
   "id": "5dd42288",
   "metadata": {},
   "outputs": [],
   "source": [
    "kick_data_1 = kick_data.drop('Unnamed: 0', axis=1).head()"
   ]
  },
  {
   "cell_type": "code",
   "execution_count": 56,
   "id": "1e6aa7f6",
   "metadata": {},
   "outputs": [
    {
     "data": {
      "text/html": [
       "<div>\n",
       "<style scoped>\n",
       "    .dataframe tbody tr th:only-of-type {\n",
       "        vertical-align: middle;\n",
       "    }\n",
       "\n",
       "    .dataframe tbody tr th {\n",
       "        vertical-align: top;\n",
       "    }\n",
       "\n",
       "    .dataframe thead th {\n",
       "        text-align: right;\n",
       "    }\n",
       "</style>\n",
       "<table border=\"1\" class=\"dataframe\">\n",
       "  <thead>\n",
       "    <tr style=\"text-align: right;\">\n",
       "      <th></th>\n",
       "      <th>category</th>\n",
       "      <th>main_category</th>\n",
       "      <th>currency</th>\n",
       "      <th>deadline</th>\n",
       "      <th>goal</th>\n",
       "      <th>launched</th>\n",
       "      <th>pledged</th>\n",
       "      <th>state</th>\n",
       "      <th>backers</th>\n",
       "      <th>country</th>\n",
       "      <th>usd_pledged</th>\n",
       "    </tr>\n",
       "  </thead>\n",
       "  <tbody>\n",
       "    <tr>\n",
       "      <th>0</th>\n",
       "      <td>Poetry</td>\n",
       "      <td>Publishing</td>\n",
       "      <td>GBP</td>\n",
       "      <td>2015-10-09 11:36:00</td>\n",
       "      <td>1000.0</td>\n",
       "      <td>2015-08-11 12:12:28</td>\n",
       "      <td>0.0</td>\n",
       "      <td>failed</td>\n",
       "      <td>0.0</td>\n",
       "      <td>GB</td>\n",
       "      <td>0.0</td>\n",
       "    </tr>\n",
       "    <tr>\n",
       "      <th>1</th>\n",
       "      <td>Narrative Film</td>\n",
       "      <td>Film &amp; Video</td>\n",
       "      <td>USD</td>\n",
       "      <td>2013-02-26 00:20:50</td>\n",
       "      <td>45000.0</td>\n",
       "      <td>2013-01-12 00:20:50</td>\n",
       "      <td>220.0</td>\n",
       "      <td>failed</td>\n",
       "      <td>3.0</td>\n",
       "      <td>US</td>\n",
       "      <td>220.0</td>\n",
       "    </tr>\n",
       "    <tr>\n",
       "      <th>2</th>\n",
       "      <td>Music</td>\n",
       "      <td>Music</td>\n",
       "      <td>USD</td>\n",
       "      <td>2012-04-16 04:24:11</td>\n",
       "      <td>5000.0</td>\n",
       "      <td>2012-03-17 03:24:11</td>\n",
       "      <td>1.0</td>\n",
       "      <td>failed</td>\n",
       "      <td>1.0</td>\n",
       "      <td>US</td>\n",
       "      <td>1.0</td>\n",
       "    </tr>\n",
       "    <tr>\n",
       "      <th>3</th>\n",
       "      <td>Film &amp; Video</td>\n",
       "      <td>Film &amp; Video</td>\n",
       "      <td>USD</td>\n",
       "      <td>2015-08-29 01:00:00</td>\n",
       "      <td>19500.0</td>\n",
       "      <td>2015-07-04 08:35:03</td>\n",
       "      <td>1283.0</td>\n",
       "      <td>canceled</td>\n",
       "      <td>14.0</td>\n",
       "      <td>US</td>\n",
       "      <td>1283.0</td>\n",
       "    </tr>\n",
       "    <tr>\n",
       "      <th>4</th>\n",
       "      <td>Restaurants</td>\n",
       "      <td>Food</td>\n",
       "      <td>USD</td>\n",
       "      <td>2016-04-01 13:38:27</td>\n",
       "      <td>50000.0</td>\n",
       "      <td>2016-02-26 13:38:27</td>\n",
       "      <td>52375.0</td>\n",
       "      <td>successful</td>\n",
       "      <td>224.0</td>\n",
       "      <td>US</td>\n",
       "      <td>52375.0</td>\n",
       "    </tr>\n",
       "  </tbody>\n",
       "</table>\n",
       "</div>"
      ],
      "text/plain": [
       "         category main_category currency             deadline     goal  \\\n",
       "0          Poetry    Publishing      GBP  2015-10-09 11:36:00   1000.0   \n",
       "1  Narrative Film  Film & Video      USD  2013-02-26 00:20:50  45000.0   \n",
       "2           Music         Music      USD  2012-04-16 04:24:11   5000.0   \n",
       "3    Film & Video  Film & Video      USD  2015-08-29 01:00:00  19500.0   \n",
       "4     Restaurants          Food      USD  2016-04-01 13:38:27  50000.0   \n",
       "\n",
       "              launched  pledged       state  backers country  usd_pledged  \n",
       "0  2015-08-11 12:12:28      0.0      failed      0.0      GB          0.0  \n",
       "1  2013-01-12 00:20:50    220.0      failed      3.0      US        220.0  \n",
       "2  2012-03-17 03:24:11      1.0      failed      1.0      US          1.0  \n",
       "3  2015-07-04 08:35:03   1283.0    canceled     14.0      US       1283.0  \n",
       "4  2016-02-26 13:38:27  52375.0  successful    224.0      US      52375.0  "
      ]
     },
     "execution_count": 56,
     "metadata": {},
     "output_type": "execute_result"
    }
   ],
   "source": [
    "kick_data_1.head()"
   ]
  },
  {
   "cell_type": "code",
   "execution_count": 57,
   "id": "8dc9a1e3",
   "metadata": {},
   "outputs": [
    {
     "data": {
      "text/plain": [
       "category          object\n",
       "main_category     object\n",
       "currency          object\n",
       "deadline          object\n",
       "goal             float64\n",
       "launched          object\n",
       "pledged          float64\n",
       "state             object\n",
       "backers          float64\n",
       "country           object\n",
       "usd_pledged      float64\n",
       "dtype: object"
      ]
     },
     "execution_count": 57,
     "metadata": {},
     "output_type": "execute_result"
    }
   ],
   "source": [
    "kick_data_1.dtypes"
   ]
  },
  {
   "cell_type": "code",
   "execution_count": 58,
   "id": "b921cf1d",
   "metadata": {},
   "outputs": [],
   "source": [
    "#Converting columns deadline and launched to datetime data types\n",
    "from datetime import datetime\n",
    "\n",
    "deadline_date_parsed = kick_data_1['deadline'].apply(lambda x: datetime.strptime(x, \"%Y-%m-%d %H:%M:%S\"))"
   ]
  },
  {
   "cell_type": "code",
   "execution_count": 59,
   "id": "9ca46c71",
   "metadata": {},
   "outputs": [],
   "source": [
    "kick_data_1_dead1 = kick_data_1.drop('deadline', axis=1)\n",
    "\n",
    "kick_data_1_dead2 = kick_data_1_dead1.assign(deadline = deadline_date_parsed)"
   ]
  },
  {
   "cell_type": "code",
   "execution_count": 60,
   "id": "3a29c1ec",
   "metadata": {},
   "outputs": [
    {
     "data": {
      "text/html": [
       "<div>\n",
       "<style scoped>\n",
       "    .dataframe tbody tr th:only-of-type {\n",
       "        vertical-align: middle;\n",
       "    }\n",
       "\n",
       "    .dataframe tbody tr th {\n",
       "        vertical-align: top;\n",
       "    }\n",
       "\n",
       "    .dataframe thead th {\n",
       "        text-align: right;\n",
       "    }\n",
       "</style>\n",
       "<table border=\"1\" class=\"dataframe\">\n",
       "  <thead>\n",
       "    <tr style=\"text-align: right;\">\n",
       "      <th></th>\n",
       "      <th>category</th>\n",
       "      <th>main_category</th>\n",
       "      <th>currency</th>\n",
       "      <th>goal</th>\n",
       "      <th>launched</th>\n",
       "      <th>pledged</th>\n",
       "      <th>state</th>\n",
       "      <th>backers</th>\n",
       "      <th>country</th>\n",
       "      <th>usd_pledged</th>\n",
       "      <th>deadline</th>\n",
       "    </tr>\n",
       "  </thead>\n",
       "  <tbody>\n",
       "    <tr>\n",
       "      <th>0</th>\n",
       "      <td>Poetry</td>\n",
       "      <td>Publishing</td>\n",
       "      <td>GBP</td>\n",
       "      <td>1000.0</td>\n",
       "      <td>2015-08-11 12:12:28</td>\n",
       "      <td>0.0</td>\n",
       "      <td>failed</td>\n",
       "      <td>0.0</td>\n",
       "      <td>GB</td>\n",
       "      <td>0.0</td>\n",
       "      <td>2015-10-09 11:36:00</td>\n",
       "    </tr>\n",
       "    <tr>\n",
       "      <th>1</th>\n",
       "      <td>Narrative Film</td>\n",
       "      <td>Film &amp; Video</td>\n",
       "      <td>USD</td>\n",
       "      <td>45000.0</td>\n",
       "      <td>2013-01-12 00:20:50</td>\n",
       "      <td>220.0</td>\n",
       "      <td>failed</td>\n",
       "      <td>3.0</td>\n",
       "      <td>US</td>\n",
       "      <td>220.0</td>\n",
       "      <td>2013-02-26 00:20:50</td>\n",
       "    </tr>\n",
       "    <tr>\n",
       "      <th>2</th>\n",
       "      <td>Music</td>\n",
       "      <td>Music</td>\n",
       "      <td>USD</td>\n",
       "      <td>5000.0</td>\n",
       "      <td>2012-03-17 03:24:11</td>\n",
       "      <td>1.0</td>\n",
       "      <td>failed</td>\n",
       "      <td>1.0</td>\n",
       "      <td>US</td>\n",
       "      <td>1.0</td>\n",
       "      <td>2012-04-16 04:24:11</td>\n",
       "    </tr>\n",
       "    <tr>\n",
       "      <th>3</th>\n",
       "      <td>Film &amp; Video</td>\n",
       "      <td>Film &amp; Video</td>\n",
       "      <td>USD</td>\n",
       "      <td>19500.0</td>\n",
       "      <td>2015-07-04 08:35:03</td>\n",
       "      <td>1283.0</td>\n",
       "      <td>canceled</td>\n",
       "      <td>14.0</td>\n",
       "      <td>US</td>\n",
       "      <td>1283.0</td>\n",
       "      <td>2015-08-29 01:00:00</td>\n",
       "    </tr>\n",
       "    <tr>\n",
       "      <th>4</th>\n",
       "      <td>Restaurants</td>\n",
       "      <td>Food</td>\n",
       "      <td>USD</td>\n",
       "      <td>50000.0</td>\n",
       "      <td>2016-02-26 13:38:27</td>\n",
       "      <td>52375.0</td>\n",
       "      <td>successful</td>\n",
       "      <td>224.0</td>\n",
       "      <td>US</td>\n",
       "      <td>52375.0</td>\n",
       "      <td>2016-04-01 13:38:27</td>\n",
       "    </tr>\n",
       "  </tbody>\n",
       "</table>\n",
       "</div>"
      ],
      "text/plain": [
       "         category main_category currency     goal             launched  \\\n",
       "0          Poetry    Publishing      GBP   1000.0  2015-08-11 12:12:28   \n",
       "1  Narrative Film  Film & Video      USD  45000.0  2013-01-12 00:20:50   \n",
       "2           Music         Music      USD   5000.0  2012-03-17 03:24:11   \n",
       "3    Film & Video  Film & Video      USD  19500.0  2015-07-04 08:35:03   \n",
       "4     Restaurants          Food      USD  50000.0  2016-02-26 13:38:27   \n",
       "\n",
       "   pledged       state  backers country  usd_pledged            deadline  \n",
       "0      0.0      failed      0.0      GB          0.0 2015-10-09 11:36:00  \n",
       "1    220.0      failed      3.0      US        220.0 2013-02-26 00:20:50  \n",
       "2      1.0      failed      1.0      US          1.0 2012-04-16 04:24:11  \n",
       "3   1283.0    canceled     14.0      US       1283.0 2015-08-29 01:00:00  \n",
       "4  52375.0  successful    224.0      US      52375.0 2016-04-01 13:38:27  "
      ]
     },
     "execution_count": 60,
     "metadata": {},
     "output_type": "execute_result"
    }
   ],
   "source": [
    "kick_data_1_dead2.head()"
   ]
  },
  {
   "cell_type": "code",
   "execution_count": 61,
   "id": "e2795f63",
   "metadata": {},
   "outputs": [],
   "source": [
    "launched_date_parsed = kick_data_1_dead2['launched'].apply(lambda x: datetime.strptime(x, \"%Y-%m-%d %H:%M:%S\"))"
   ]
  },
  {
   "cell_type": "code",
   "execution_count": 62,
   "id": "c83fcca1",
   "metadata": {},
   "outputs": [],
   "source": [
    "kick_data_1_launch1 = kick_data_1_dead2.drop('launched', axis=1)\n",
    "\n",
    "kick_data_1_launch2 = kick_data_1_launch1.assign(launched = launched_date_parsed)"
   ]
  },
  {
   "cell_type": "code",
   "execution_count": 63,
   "id": "099dad25",
   "metadata": {},
   "outputs": [
    {
     "data": {
      "text/html": [
       "<div>\n",
       "<style scoped>\n",
       "    .dataframe tbody tr th:only-of-type {\n",
       "        vertical-align: middle;\n",
       "    }\n",
       "\n",
       "    .dataframe tbody tr th {\n",
       "        vertical-align: top;\n",
       "    }\n",
       "\n",
       "    .dataframe thead th {\n",
       "        text-align: right;\n",
       "    }\n",
       "</style>\n",
       "<table border=\"1\" class=\"dataframe\">\n",
       "  <thead>\n",
       "    <tr style=\"text-align: right;\">\n",
       "      <th></th>\n",
       "      <th>category</th>\n",
       "      <th>main_category</th>\n",
       "      <th>currency</th>\n",
       "      <th>goal</th>\n",
       "      <th>pledged</th>\n",
       "      <th>state</th>\n",
       "      <th>backers</th>\n",
       "      <th>country</th>\n",
       "      <th>usd_pledged</th>\n",
       "      <th>deadline</th>\n",
       "      <th>launched</th>\n",
       "    </tr>\n",
       "  </thead>\n",
       "  <tbody>\n",
       "    <tr>\n",
       "      <th>0</th>\n",
       "      <td>Poetry</td>\n",
       "      <td>Publishing</td>\n",
       "      <td>GBP</td>\n",
       "      <td>1000.0</td>\n",
       "      <td>0.0</td>\n",
       "      <td>failed</td>\n",
       "      <td>0.0</td>\n",
       "      <td>GB</td>\n",
       "      <td>0.0</td>\n",
       "      <td>2015-10-09 11:36:00</td>\n",
       "      <td>2015-08-11 12:12:28</td>\n",
       "    </tr>\n",
       "    <tr>\n",
       "      <th>1</th>\n",
       "      <td>Narrative Film</td>\n",
       "      <td>Film &amp; Video</td>\n",
       "      <td>USD</td>\n",
       "      <td>45000.0</td>\n",
       "      <td>220.0</td>\n",
       "      <td>failed</td>\n",
       "      <td>3.0</td>\n",
       "      <td>US</td>\n",
       "      <td>220.0</td>\n",
       "      <td>2013-02-26 00:20:50</td>\n",
       "      <td>2013-01-12 00:20:50</td>\n",
       "    </tr>\n",
       "    <tr>\n",
       "      <th>2</th>\n",
       "      <td>Music</td>\n",
       "      <td>Music</td>\n",
       "      <td>USD</td>\n",
       "      <td>5000.0</td>\n",
       "      <td>1.0</td>\n",
       "      <td>failed</td>\n",
       "      <td>1.0</td>\n",
       "      <td>US</td>\n",
       "      <td>1.0</td>\n",
       "      <td>2012-04-16 04:24:11</td>\n",
       "      <td>2012-03-17 03:24:11</td>\n",
       "    </tr>\n",
       "    <tr>\n",
       "      <th>3</th>\n",
       "      <td>Film &amp; Video</td>\n",
       "      <td>Film &amp; Video</td>\n",
       "      <td>USD</td>\n",
       "      <td>19500.0</td>\n",
       "      <td>1283.0</td>\n",
       "      <td>canceled</td>\n",
       "      <td>14.0</td>\n",
       "      <td>US</td>\n",
       "      <td>1283.0</td>\n",
       "      <td>2015-08-29 01:00:00</td>\n",
       "      <td>2015-07-04 08:35:03</td>\n",
       "    </tr>\n",
       "    <tr>\n",
       "      <th>4</th>\n",
       "      <td>Restaurants</td>\n",
       "      <td>Food</td>\n",
       "      <td>USD</td>\n",
       "      <td>50000.0</td>\n",
       "      <td>52375.0</td>\n",
       "      <td>successful</td>\n",
       "      <td>224.0</td>\n",
       "      <td>US</td>\n",
       "      <td>52375.0</td>\n",
       "      <td>2016-04-01 13:38:27</td>\n",
       "      <td>2016-02-26 13:38:27</td>\n",
       "    </tr>\n",
       "  </tbody>\n",
       "</table>\n",
       "</div>"
      ],
      "text/plain": [
       "         category main_category currency     goal  pledged       state  \\\n",
       "0          Poetry    Publishing      GBP   1000.0      0.0      failed   \n",
       "1  Narrative Film  Film & Video      USD  45000.0    220.0      failed   \n",
       "2           Music         Music      USD   5000.0      1.0      failed   \n",
       "3    Film & Video  Film & Video      USD  19500.0   1283.0    canceled   \n",
       "4     Restaurants          Food      USD  50000.0  52375.0  successful   \n",
       "\n",
       "   backers country  usd_pledged            deadline            launched  \n",
       "0      0.0      GB          0.0 2015-10-09 11:36:00 2015-08-11 12:12:28  \n",
       "1      3.0      US        220.0 2013-02-26 00:20:50 2013-01-12 00:20:50  \n",
       "2      1.0      US          1.0 2012-04-16 04:24:11 2012-03-17 03:24:11  \n",
       "3     14.0      US       1283.0 2015-08-29 01:00:00 2015-07-04 08:35:03  \n",
       "4    224.0      US      52375.0 2016-04-01 13:38:27 2016-02-26 13:38:27  "
      ]
     },
     "execution_count": 63,
     "metadata": {},
     "output_type": "execute_result"
    }
   ],
   "source": [
    "kick_data_1_launch2.head()"
   ]
  },
  {
   "cell_type": "code",
   "execution_count": 64,
   "id": "ca65fc4e",
   "metadata": {},
   "outputs": [
    {
     "data": {
      "text/plain": [
       "category                 object\n",
       "main_category            object\n",
       "currency                 object\n",
       "goal                    float64\n",
       "pledged                 float64\n",
       "state                    object\n",
       "backers                 float64\n",
       "country                  object\n",
       "usd_pledged             float64\n",
       "deadline         datetime64[ns]\n",
       "launched         datetime64[ns]\n",
       "dtype: object"
      ]
     },
     "execution_count": 64,
     "metadata": {},
     "output_type": "execute_result"
    }
   ],
   "source": [
    "kick_data_1_launch2.dtypes"
   ]
  },
  {
   "cell_type": "code",
   "execution_count": 66,
   "id": "d74f4d85",
   "metadata": {},
   "outputs": [],
   "source": [
    "#Checking for missing values\n",
    "missing_values = kick_data_1_launch2.isnull().sum()"
   ]
  },
  {
   "cell_type": "code",
   "execution_count": 67,
   "id": "4ff8bf3a",
   "metadata": {},
   "outputs": [
    {
     "data": {
      "text/plain": [
       "category         0\n",
       "main_category    0\n",
       "currency         0\n",
       "goal             0\n",
       "pledged          0\n",
       "state            0\n",
       "backers          0\n",
       "country          0\n",
       "usd_pledged      0\n",
       "deadline         0\n",
       "launched         0\n",
       "dtype: int64"
      ]
     },
     "execution_count": 67,
     "metadata": {},
     "output_type": "execute_result"
    }
   ],
   "source": [
    "missing_values"
   ]
  },
  {
   "cell_type": "code",
   "execution_count": 70,
   "id": "e6419885",
   "metadata": {},
   "outputs": [
    {
     "data": {
      "text/html": [
       "<div>\n",
       "<style scoped>\n",
       "    .dataframe tbody tr th:only-of-type {\n",
       "        vertical-align: middle;\n",
       "    }\n",
       "\n",
       "    .dataframe tbody tr th {\n",
       "        vertical-align: top;\n",
       "    }\n",
       "\n",
       "    .dataframe thead th {\n",
       "        text-align: right;\n",
       "    }\n",
       "</style>\n",
       "<table border=\"1\" class=\"dataframe\">\n",
       "  <thead>\n",
       "    <tr style=\"text-align: right;\">\n",
       "      <th></th>\n",
       "      <th>goal</th>\n",
       "      <th>pledged</th>\n",
       "      <th>backers</th>\n",
       "      <th>usd_pledged</th>\n",
       "    </tr>\n",
       "  </thead>\n",
       "  <tbody>\n",
       "    <tr>\n",
       "      <th>count</th>\n",
       "      <td>5.000000</td>\n",
       "      <td>5.000000</td>\n",
       "      <td>5.000000</td>\n",
       "      <td>5.000000</td>\n",
       "    </tr>\n",
       "    <tr>\n",
       "      <th>mean</th>\n",
       "      <td>24100.000000</td>\n",
       "      <td>10775.800000</td>\n",
       "      <td>48.400000</td>\n",
       "      <td>10775.800000</td>\n",
       "    </tr>\n",
       "    <tr>\n",
       "      <th>std</th>\n",
       "      <td>22512.218904</td>\n",
       "      <td>23260.727562</td>\n",
       "      <td>98.322429</td>\n",
       "      <td>23260.727562</td>\n",
       "    </tr>\n",
       "    <tr>\n",
       "      <th>min</th>\n",
       "      <td>1000.000000</td>\n",
       "      <td>0.000000</td>\n",
       "      <td>0.000000</td>\n",
       "      <td>0.000000</td>\n",
       "    </tr>\n",
       "    <tr>\n",
       "      <th>25%</th>\n",
       "      <td>5000.000000</td>\n",
       "      <td>1.000000</td>\n",
       "      <td>1.000000</td>\n",
       "      <td>1.000000</td>\n",
       "    </tr>\n",
       "    <tr>\n",
       "      <th>50%</th>\n",
       "      <td>19500.000000</td>\n",
       "      <td>220.000000</td>\n",
       "      <td>3.000000</td>\n",
       "      <td>220.000000</td>\n",
       "    </tr>\n",
       "    <tr>\n",
       "      <th>75%</th>\n",
       "      <td>45000.000000</td>\n",
       "      <td>1283.000000</td>\n",
       "      <td>14.000000</td>\n",
       "      <td>1283.000000</td>\n",
       "    </tr>\n",
       "    <tr>\n",
       "      <th>max</th>\n",
       "      <td>50000.000000</td>\n",
       "      <td>52375.000000</td>\n",
       "      <td>224.000000</td>\n",
       "      <td>52375.000000</td>\n",
       "    </tr>\n",
       "  </tbody>\n",
       "</table>\n",
       "</div>"
      ],
      "text/plain": [
       "               goal       pledged     backers   usd_pledged\n",
       "count      5.000000      5.000000    5.000000      5.000000\n",
       "mean   24100.000000  10775.800000   48.400000  10775.800000\n",
       "std    22512.218904  23260.727562   98.322429  23260.727562\n",
       "min     1000.000000      0.000000    0.000000      0.000000\n",
       "25%     5000.000000      1.000000    1.000000      1.000000\n",
       "50%    19500.000000    220.000000    3.000000    220.000000\n",
       "75%    45000.000000   1283.000000   14.000000   1283.000000\n",
       "max    50000.000000  52375.000000  224.000000  52375.000000"
      ]
     },
     "execution_count": 70,
     "metadata": {},
     "output_type": "execute_result"
    }
   ],
   "source": [
    "kick_data_1_launch2.describe()"
   ]
  },
  {
   "cell_type": "code",
   "execution_count": null,
   "id": "001cb8f7",
   "metadata": {},
   "outputs": [],
   "source": []
  }
 ],
 "metadata": {
  "kernelspec": {
   "display_name": "Python 3",
   "language": "python",
   "name": "python3"
  },
  "language_info": {
   "codemirror_mode": {
    "name": "ipython",
    "version": 3
   },
   "file_extension": ".py",
   "mimetype": "text/x-python",
   "name": "python",
   "nbconvert_exporter": "python",
   "pygments_lexer": "ipython3",
   "version": "3.8.8"
  }
 },
 "nbformat": 4,
 "nbformat_minor": 5
}
